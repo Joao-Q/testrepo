{
 "cells": [
  {
   "cell_type": "markdown",
   "id": "f3995309",
   "metadata": {},
   "source": [
    "<img src=\"https://www.maiscursos.org/wp-content/uploads/2021/04/Escola-Profissional-Grupo-Rumos.jpg\"></img>\n",
    "<h1>Python Programming</h1>\n",
    "<h2>Sprint 1: Variáveis, Tipos de Dados, Condições e Fluxos de Controlo</h2>\n",
    "<p>O objetivo deste notebook é relembrar os conceitos fundamentais, insistir na sua prática e promover a compreensão dos temas que poderão surgir na certificação, e seguramente no dia a dia de qualquer Pythonista.</p>"
   ]
  },
  {
   "cell_type": "code",
   "execution_count": 1,
   "id": "33e9d77f",
   "metadata": {},
   "outputs": [
    {
     "name": "stdout",
     "output_type": "stream",
     "text": [
      "Hello World!\n"
     ]
    }
   ],
   "source": [
    "print (\"Hello World!\")"
   ]
  },
  {
   "cell_type": "markdown",
   "id": "73957060",
   "metadata": {},
   "source": [
    "<h3>Revendo os mandamentos dos nomes das variáveis</h3>\n",
    "<ol>\n",
    "    <li>O nome da variável não pode começar por um digito numérico (ao contrário desta lista)</li>\n",
    "    <li>Pode começar com uma letra, seja maiúscula ou minúscula, ou por um underscore _</li>\n",
    "    <li>O nome depois do primeiro caractere continua a aceitar o que é válido para o primeiro, mas já aceita números</li>\n",
    "    <li>Os nomes das variáveis são Case Sensitive (importa se está em maiúsculas ou minúsculas)</li>\n",
    "    <li>Não podemos utilizar palavras reservadas do Python para dar nomes às variáveis</li>\n",
    "</ol>\n",
    "<p>E o que é isso das palavras registadas?\n",
    "Estã a ver as matrículas dos carros?\n",
    "As começadas por AP estão reservadas à marinha, GNR para os próprios, MX para o exército, AM para a Força Aérea e CD para o corpo diplomático.</p>\n",
    "</br>\n",
    "<p>E o que é que isso tem a ver com o Python?\n",
    "Tal como essas matrículas estão reservadas no IMT, no Python todo o léxico que faz parte da sintaxe do próprio Python não pode ser usado como nome de variável. A mesma palavra com uma troca de maiúscula ou minúscula já pode ser utilizada, mas não se recomenda.\n",
    "Porquê usar Int em vez de int se podemos diferenciar com myint, ou myInt?</p>"
   ]
  },
  {
   "cell_type": "code",
   "execution_count": 1,
   "id": "984bd884",
   "metadata": {},
   "outputs": [],
   "source": [
    "# Lista de palavras reservadas\n",
    "import keyword\n",
    "listaKeywords = keyword.kwlist"
   ]
  },
  {
   "cell_type": "markdown",
   "id": "5453f5a8",
   "metadata": {},
   "source": [
    "Porque é que a célula acima não fez nada?</br>\n",
    "Mostre o resultado (todas as palavras reservadas) fazendo o código que falta na célula abaixo. É para isso que elas vão aparecer nos nossos notebooks.\n",
    "Não precisa de repetir o código já escrito acima, nos notebooks o código executado fica em memória."
   ]
  },
  {
   "cell_type": "code",
   "execution_count": 2,
   "id": "0e52841a",
   "metadata": {},
   "outputs": [
    {
     "name": "stdout",
     "output_type": "stream",
     "text": [
      "['False', 'None', 'True', 'and', 'as', 'assert', 'async', 'await', 'break', 'class', 'continue', 'def', 'del', 'elif', 'else', 'except', 'finally', 'for', 'from', 'global', 'if', 'import', 'in', 'is', 'lambda', 'nonlocal', 'not', 'or', 'pass', 'raise', 'return', 'try', 'while', 'with', 'yield']\n"
     ]
    }
   ],
   "source": [
    "print(listaKeywords)\n"
   ]
  },
  {
   "cell_type": "markdown",
   "id": "fd953dc1",
   "metadata": {},
   "source": [
    "Por falar nisso... O que é que temos em memória neste momento?\n",
    "Utilize a próxima célula para perguntar isso ao Sistema Operativo."
   ]
  },
  {
   "cell_type": "code",
   "execution_count": 3,
   "id": "5bd8c658",
   "metadata": {},
   "outputs": [
    {
     "name": "stdout",
     "output_type": "stream",
     "text": [
      "Variable        Type      Data/Info\n",
      "-----------------------------------\n",
      "keyword         module    <module 'keyword' from 'c<...>hon311\\\\Lib\\\\keyword.py'>\n",
      "listaKeywords   list      n=35\n"
     ]
    }
   ],
   "source": [
    "%whos\n"
   ]
  },
  {
   "cell_type": "markdown",
   "id": "eb36ed00",
   "metadata": {},
   "source": [
    "<h3>Nota:</h3>\n",
    "<p>O HTML não é um requisito para o curso, nem faz parte do programa, mas é óptimo para formatar os notebooks.</br>\n",
    "Para escrever neste espaço em branco na verdade marcamos a célula como sendo do tipo \"Markdown\", na combobox, ali em cima no menú do Jupyter Notebooks.</p>\n",
    "<p>Dica: Faça duplo clique para ver as < tags > que uso para formatar o texto, ou consulte a referência do HTML:</br><a href=\"https://www.w3schools.com/html/default.asp\">W3C: World Wibe Web Consortium - Referência Rápida de HTML</a>\n",
    "<p>Se quiserem dar espectáculo, os notebooks também interpretam notação <a href\"https://jupyter-notebook.readthedocs.io/en/stable/examples/Notebook/Working%20With%20Markdown%20Cells.html\">LaTeX</a></p>"
   ]
  },
  {
   "cell_type": "markdown",
   "id": "d17bf413",
   "metadata": {},
   "source": [
    "<p>Vamos ver os tipos de alguns literais</br>Qual é a diferença entre os literais e as variáveis?</br>\n",
    "Porque é que não há regras para os nomes dos literais?</br>Na célula abaixo imprima os tipos de dados de:</p>\n",
    "<table style=\"width:50%; background:white\">\n",
    "    <tr>\n",
    "        <td style=\"width:25vw; text-align:center\">2</td>\n",
    "        <td style=\"width:0vw\"></td><td style=\"width:50vw; text-align:center\">2.0</td>\n",
    "        <td style=\"width:25vw; text-align:center\">\"2\"</td>\n",
    "    </tr>\n",
    "    <tr>\n",
    "        <td colspan=4 style=\"text-align:left\"><img style=\"width:100%\" src=\"https://www.edivaldobrito.com.br/wp-content/uploads/2020/11/guido-van-rossum-anunciou-que-ira-trabalhar-na-microsoft.jpg\"/><p><i>\"Há mais de seis anos atrás, em dezembro de 1989, eu estava procurando por um projeto de programação como \"hobby\" que me mantivesse ocupado durante a semana próxima ao Natal. Meu escritório… estaria fechado, mas eu tinha um computador em casa, e não muito mais em mãos. Eu decidi escrever um interpretador para a nova linguagem de scripting que eu vinha pensando sobre ultimamente: uma descendente da ABC que agradaria a hackers de Unix/C. Eu escolhi Python como um título provisório para o projeto, sendo que eu estava num humor um pouco irreverente (e sendo também um grande fã do Monty Python's Flying Circus).“</i>&nbsp;Fonte: <a href=\"https://citacoes.in/autores/guido-van-rossum\">https://citacoes.in/autores/guido-van-rossum</a></td>\n",
    "    </tr>\n",
    "    <tr style=\"width: 100%\">\n",
    "        <td style=\"width:25vw; text-align:center\">True</td>\n",
    "        <td style=\"width:25vw; text-align:center\">False</td>\n",
    "        <td style=\"width:25vw; text-align:center\">1</td>\n",
    "        <td style=\"width:25vw; text-align:center\">0</td>\n",
    "    </tr>\n",
    "</table>\n",
    "<p><b>Atenção: </b>A foto não é literal, mas também conta para o exercício. (nível de bónus).</br>Mesmo no stackoverflow vão ver pessoal a dizer que não dá, outros a dar uma grande volta... Mas quanto mais simples melhor.<p>\n",
    "<p>Cuidado com as aspas!</p>"
   ]
  },
  {
   "cell_type": "code",
   "execution_count": 38,
   "id": "1b703a94",
   "metadata": {},
   "outputs": [
    {
     "name": "stdout",
     "output_type": "stream",
     "text": [
      "<class 'int'> <class 'float'> <class 'str'> <class 'bool'> <class 'bool'> <class 'int'> <class 'int'> <class 'str'> image/jpeg\n"
     ]
    }
   ],
   "source": [
    "import imghdr\n",
    "import requests\n",
    "import urllib.request\n",
    "\n",
    "y = \"\"\"Há mais de seis anos atrás, em dezembro de 1989, eu estava procurando por um projeto de programação como 'hobby\"' que me mantivesse ocupado durante a semana próxima ao Natal. Meu escritório… estaria fechado, mas eu tinha um computador em casa, e não muito mais em mãos. Eu decidi escrever um interpretador para a nova linguagem de scripting que eu vinha pensando sobre ultimamente: uma descendente da ABC que agradaria a hackers de Unix/C. Eu escolhi Python como um título provisório para o projeto, sendo que eu estava num humor um pouco irreverente (e sendo também um grande fã do Monty Python's Flying Circus).\"\"\"\n",
    "url = 'https://www.edivaldobrito.com.br/wp-content/uploads/2020/11/guido-van-rossum-anunciou-que-ira-trabalhar-na-microsoft.jpg'\n",
    "w = requests.get(url)\n",
    "\n",
    "print(type(2), type(2.0), type(\"2\",), type(True), type(False), type(1), type(0), type(y), w.headers['Content-Type'])"
   ]
  },
  {
   "cell_type": "markdown",
   "id": "0eedea9b",
   "metadata": {},
   "source": [
    "<p><b><u>A ter atenção quando comparando números com valores lógicos (True, False): Todos os números diferentes de 0 são verdadeiros</u></b></p>"
   ]
  },
  {
   "cell_type": "code",
   "execution_count": 39,
   "id": "714f07f4",
   "metadata": {},
   "outputs": [
    {
     "name": "stdout",
     "output_type": "stream",
     "text": [
      "True: <class 'bool'>\n",
      "1: <class 'int'>\n",
      "2: <class 'int'>\n",
      "0: <class 'int'>\n",
      "0: <class 'int'>\n",
      "True: <class 'bool'>\n"
     ]
    }
   ],
   "source": [
    "if (True or True): print(True or True,\": \",type(True or True),sep=\"\")\n",
    "if (1 or False): print(1 or False,\": \",type(1 or False),sep=\"\")\n",
    "if (False or 2): print(False or 2,\": \",type(False or 2),sep=\"\")\n",
    "if not (False or 0): print(False or 0,\": \",type(False or 0),sep=\"\")\n",
    "if not (True and 0): print(True and 0,\": \",type(True and 0),sep=\"\")\n",
    "if (True or 0): print(True or 0,\": \",type(True or 0),sep=\"\")"
   ]
  },
  {
   "cell_type": "markdown",
   "id": "1083147a",
   "metadata": {},
   "source": [
    "Que conclusões tira?"
   ]
  },
  {
   "cell_type": "markdown",
   "id": "14162d02",
   "metadata": {},
   "source": [
    "<h3>Operações com dados inteiros</h3>"
   ]
  },
  {
   "cell_type": "markdown",
   "id": "043d39e7",
   "metadata": {},
   "source": [
    "Imprima a soma e o tipo de dados dessa soma de todos o elementos da lista fornecida no código utilizando um ciclo que percorra todos esses elementos. Não vale fazer print(1+2+...)."
   ]
  },
  {
   "cell_type": "code",
   "execution_count": 47,
   "id": "4d86dedf",
   "metadata": {},
   "outputs": [
    {
     "name": "stdout",
     "output_type": "stream",
     "text": [
      "1099511627776 +  549755813888 =  1099511627776 <class 'int'>\n"
     ]
    }
   ],
   "source": [
    "potencias2=[1,2,4,8,16,32,64,128,256,512,1024,2048,4096,8192,16384,32768,65536,131072,262144,524288,1048576,\\\n",
    "            2097152,4194304,8388608,16777216,33554432,67108864,134217728,268435456,536870912,1073741824,2147483648,\\\n",
    "            4294967296,8589934592,17179869184,34359738368,68719476736,137438953472,274877906944,549755813888]\n",
    "\n",
    "soma = potencias2[0]\n",
    "for i in range(len(potencias2)):\n",
    "    soma += potencias2[i]\n",
    "    soma_final = soma\n",
    "print(soma, \"+ \", potencias2[i], \"= \", soma_final, type(soma_final))\n"
   ]
  },
  {
   "cell_type": "markdown",
   "id": "0925ce49",
   "metadata": {},
   "source": [
    "Multiplique todos os elementos do tuplo, apresentando os resultados parciais (linha a linha para cada elemento). Qual é o tipo de dados para o resultado final?"
   ]
  },
  {
   "cell_type": "code",
   "execution_count": 49,
   "id": "0892f8c0",
   "metadata": {},
   "outputs": [
    {
     "name": "stdout",
     "output_type": "stream",
     "text": [
      "2 x  1 =  2\n",
      "4 x  2 =  4\n",
      "8 x  4 =  8\n",
      "16 x  8 =  16\n",
      "32 x  16 =  32\n",
      "64 x  32 =  64\n",
      "128 x  64 =  128\n",
      "256 x  128 =  256\n",
      "512 x  256 =  512\n",
      "1024 x  512 =  1024\n",
      "2048 x  1024 =  2048\n",
      "4096 x  2048 =  4096\n",
      "8192 x  4096 =  8192\n",
      "16384 x  8192 =  16384\n",
      "32768 x  16384 =  32768\n",
      "65536 x  32768 =  65536\n",
      "131072 x  65536 =  131072\n",
      "262144 x  131072 =  262144\n",
      "524288 x  262144 =  524288\n",
      "1048576 x  524288 =  1048576\n",
      "2097152 x  1048576 =  2097152\n",
      "4194304 x  2097152 =  4194304\n",
      "8388608 x  4194304 =  8388608\n",
      "16777216 x  8388608 =  16777216\n",
      "33554432 x  16777216 =  33554432\n",
      "67108864 x  33554432 =  67108864\n",
      "134217728 x  67108864 =  134217728\n",
      "268435456 x  134217728 =  268435456\n",
      "536870912 x  268435456 =  536870912\n",
      "1073741824 x  536870912 =  1073741824\n",
      "2147483648 x  1073741824 =  2147483648\n",
      "4294967296 x  2147483648 =  4294967296\n",
      "8589934592 x  4294967296 =  8589934592\n",
      "17179869184 x  8589934592 =  17179869184\n",
      "34359738368 x  17179869184 =  34359738368\n",
      "68719476736 x  34359738368 =  68719476736\n",
      "137438953472 x  68719476736 =  137438953472\n",
      "274877906944 x  137438953472 =  274877906944\n",
      "549755813888 x  274877906944 =  549755813888\n",
      "1099511627776 x  549755813888 =  1099511627776\n",
      "<class 'int'>\n"
     ]
    }
   ],
   "source": [
    "potencias8=(1,8,64,512,4096,32768,262144,2097152,16777216,134217728,1073741824,8589934592,68719476736,549755813888,\\\n",
    "            4398046511104,35184372088832,281474976710656,2251799813685250,18014398509482000,144115188075856000,\\\n",
    "            1152921504606850000,9223372036854780000,73786976294838200000,590295810358706000000,4722366482869650000000,\\\n",
    "            37778931862957200000000,302231454903657000000000,2417851639229260000000000,19342813113834100000000000,\\\n",
    "            154742504910673000000000000,1237940039285380000000000000,9903520314283040000000000000,\\\n",
    "            79228162514264300000000000000,633825300114115000000000000000,5070602400912920000000000000000,\\\n",
    "            40564819207303300000000000000000,324518553658427000000000000000000,2596148429267410000000000000000000,\\\n",
    "            20769187434139300000000000000000000,166153499473114000000000000000000000)\n",
    "soma = potencias8[0]\n",
    "for i in range(len(potencias8)):\n",
    "    soma += potencias2[i]\n",
    "    soma_final = soma\n",
    "    print(soma, \"x \", potencias2[i], \"= \", soma_final,)\n",
    "print(type(soma_final))"
   ]
  },
  {
   "cell_type": "markdown",
   "id": "cf127f36",
   "metadata": {},
   "source": [
    "Como pode ver, ao contrário de outras linguagen não há diversos tipos de dados inteiros (em C há vários níveis de cada tipo de dados com mais ou menos bits)"
   ]
  },
  {
   "cell_type": "markdown",
   "id": "ed95e32d",
   "metadata": {},
   "source": [
    "<p>Crie e teste uma função que devolva uma lista com as primeiros N termos da série de potências de \n",
    "um expoente E a perguntar ao utilizador.</p>\n",
    "<ul><li>N tem de ser inserido como um inteiro positivo. Verificar e ignorar inputs que não satisfaçam a condição.</li>\n",
    "<li>E tem de ser inserido como um inteiro mas pode ser negativo. Verificar e ignorar inputs que não satisfaçam a condição. \n",
    "Considerar os efeitos deste requisito no desenho da função.<li>Ainda no que diz respeito a E admita e previna-se para o fato de o utilizador poder escrever -numero ou - numero (com ou sem espaço)</ul>"
   ]
  },
  {
   "cell_type": "code",
   "execution_count": null,
   "id": "ecdff8d6",
   "metadata": {},
   "outputs": [],
   "source": [
    "\n"
   ]
  },
  {
   "cell_type": "markdown",
   "id": "113b9504",
   "metadata": {},
   "source": [
    "<p>Imprima o maior e o menor número da lista acima</p>"
   ]
  },
  {
   "cell_type": "code",
   "execution_count": null,
   "id": "ef3b95ee",
   "metadata": {},
   "outputs": [],
   "source": []
  },
  {
   "cell_type": "markdown",
   "id": "485a1ce8",
   "metadata": {},
   "source": [
    "<h3>Operações com ficheiros e com strings</h3>\n",
    "<p>Com quantas palavras Camões escreveu os Lusiadas?"
   ]
  },
  {
   "cell_type": "code",
   "execution_count": 21,
   "id": "622bff85",
   "metadata": {},
   "outputs": [
    {
     "name": "stdout",
     "output_type": "stream",
     "text": [
      "56361\n"
     ]
    }
   ],
   "source": [
    "# o open built-in no Python pode-se tornar complexo e falhar a leitura de caracteres acentuados\n",
    "# aceite a sugestão de utilizar a biblioteca io para abrir ficheiros com o encoding utf-8\n",
    "import io\n",
    "\n",
    "#ficheiro = io.open(\"Lusiadas.txt\", mode=\"r\", encoding=\"utf-8\")\n",
    "file = open(r\"C:\\Users\\jfili\\OneDrive\\Ambiente de Trabalho\\Sprint1\\Lusiadas.txt\", mode=\"r\", encoding=\"utf-8\")\n",
    "\n",
    "ocorrencias = file.read().split()\n",
    "print(len(ocorrencias))\n",
    "\n",
    "# desenvola abaixo o resto do código\n"
   ]
  },
  {
   "cell_type": "markdown",
   "id": "592bd432",
   "metadata": {},
   "source": [
    "<p>Desculpem, queria dizer com quantas palavras distintas escreveu Camões os Lusíadas, não considerando os números das estrofes como palavras.</p>Assuma o código já escrito e executado acima, tendo palavras em memória e faça apenas o código necessário para obter a contagem corrigida.<p>"
   ]
  },
  {
   "cell_type": "code",
   "execution_count": 42,
   "id": "6950ebc0",
   "metadata": {},
   "outputs": [
    {
     "name": "stdout",
     "output_type": "stream",
     "text": [
      "14657\n"
     ]
    }
   ],
   "source": [
    "palavras_unicas = []\n",
    "for i in ocorrencias:\n",
    "    if i not in palavras_unicas:\n",
    "        palavras_unicas.append(i)\n",
    "        \n",
    "for i in palavras_unicas:\n",
    "    if i.isnumeric() == True:\n",
    "        palavras_unicas.remove(i)\n",
    "print(len(palavras_unicas))"
   ]
  },
  {
   "cell_type": "markdown",
   "id": "2da6ebe1",
   "metadata": {},
   "source": [
    "<p>No Python e na programação trabalhamos com 2 valores lógicos: Verdadeiro, ou Falso.</br>No mundo da física nem sempre é assim, especialmente quando entramos no domínio da física quântica, ou da mecânica quântica para ser exato.</br>Guarde a seguinte definição numa string e imprima o seu tamanho, uma versão do seu conteúdo em minúsculas, e outra em maiúsculas.</p>\n",
    "\n",
    "<i><p>Em física, chama-se \"sistema\" um fragmento concreto da realidade que foi separado para estudo. Dependendo do caso, a palavra sistema refere-se a um elétron ou um próton, um pequeno átomo de hidrogênio ou um grande átomo de urânio, uma molécula isolada ou um conjunto de moléculas interagentes formando um sólido ou um vapor. Em todos os casos, sistema é um fragmento da realidade concreta para o qual deseja-se chamar atenção.</p></i>\n",
    "<i><p>Dependendo da partícula pode-se inverter polarizações subsequentes de aspecto neutro.</p></i>\n",
    "<i><p>A especificação de um sistema físico não determina unicamente os valores que experimentos fornecem para as suas propriedades (ou as probabilidades de se medirem tais valores, em se tratando de teorias probabilísticas). Além disso, os sistemas físicos não são estáticos, eles evoluem com o tempo, de modo que o mesmo sistema, preparado da mesma forma, pode dar origem a resultados experimentais diferentes dependendo do tempo em que se realiza a medida (ou a histogramas diferentes, no caso de teorias probabilísticas). Essa ideia conduz a outro conceito-chave: o conceito de \"estado\". Um estado é uma quantidade matemática (que varia de acordo com a teoria) que determina completamente os valores das propriedades físicas do sistema associadas a ele num dado instante de tempo (ou as probabilidades de cada um de seus valores possíveis serem medidos, quando se trata de uma teoria probabilística). Em outras palavras, todas as informações possíveis de se conhecer em um dado sistema constituem seu estado.</p></i>\n",
    "<i><p>Cada sistema ocupa um estado num instante no tempo e as leis da física devem ser capazes de descrever como um dado sistema parte de um estado e chega a outro. Em outras palavras, as leis da física devem dizer como o sistema evolui (de estado em estado).</p></i>\n",
    "<i><p>Muitas variáveis que ficam bem determinadas na mecânica clássica são substituídas por distribuições de probabilidades na mecânica quântica, que é uma teoria intrinsecamente probabilística (isto é, dispõe-se apenas de probabilidades não por uma simplificação ou ignorância, mas porque isso é tudo que a teoria é capaz de fornecer).</p></i>\n",
    "<p style=\"text-align:right\">Fonte: <a href=\"https://pt.wikipedia.org/wiki/Mec%C3%A2nica_qu%C3%A2ntica\">Wikipedia</a></p>"
   ]
  },
  {
   "cell_type": "markdown",
   "id": "e3541653",
   "metadata": {},
   "source": [
    "<p>Uma correção: Em Python não é possível ser e não ser ao mesmo tempo. Mas é possível nem ser nem não ser.</br>Se \n",
    "    inicializer uma variável com None qual é o seu comportamento?</br>Desenvolva o código necessário para estudar o seu funcionamento.</p>"
   ]
  },
  {
   "cell_type": "code",
   "execution_count": null,
   "id": "37d0bff3",
   "metadata": {},
   "outputs": [],
   "source": [
    "Q = None\n"
   ]
  },
  {
   "cell_type": "markdown",
   "id": "29d9a49c",
   "metadata": {},
   "source": [
    "<p>Lembrando-nos que um dicionário tem um conjunto de {\"keys\":\"valores\"}</br>\n",
    "Defina um calendário com os nomes dos meses como keys e o número correspondente como valores.</br>\n",
    "Imprima:</p>\n",
    "<ol>\n",
    "    <li>O dicionário</li>\n",
    "    <li>Lista dos nomes dos meses</li>\n",
    "    <li>Lista dos números dos meses</li>\n",
    "    <li>Lista dos nomes dos meses do primeiro trimestre</li>\n",
    "    <li>Lista dos nomes dos meses do segundo semestre</li>\n",
    "    <li>Lista dos nomes dos meses com alguns dia de inverno</li>   \n",
    "</ol>\n",
    "\n",
    "<p>É possível utilizar a biblioteca itertools, para fazer slice de dicionários mas há uma solução bem simples e implicita no enunciado.</br>Coomo vão dar a volta ao slice com elementos do fim e do inicio dos dados?</p>"
   ]
  },
  {
   "cell_type": "code",
   "execution_count": 64,
   "id": "2646ce47",
   "metadata": {},
   "outputs": [
    {
     "name": "stdout",
     "output_type": "stream",
     "text": [
      "['Janeiro', 'Fevereiro', 'Março', 'Dezembro']\n"
     ]
    }
   ],
   "source": [
    "calendario = {\"Janeiro\":1, \"Fevereiro\":2, \"Março\":3, \"Abril\":4, \"Maio\":5, \"Junho\":6, \"Julho\":7, \"Agosto\":8, \"Setembro\":9, \"Outubro\":10, \"Novembro\":11, \"Dezembro\":12}\n",
    "#print(calendario)\n",
    "#print(calendario.keys())\n",
    "#print(calendario.values())\n",
    "meses = list(calendario.keys())\n",
    "# print(\"primeiro trimestre: \", meses[:4])\n",
    "# print(\"segundo trimestre: \", meses[6:])\n",
    "#inverno= [meses[0], meses[1], meses[2], meses[11]]\n",
    "#print(inverno)\n",
    "\n",
    "\n"
   ]
  },
  {
   "cell_type": "code",
   "execution_count": 1,
   "id": "1f306483",
   "metadata": {},
   "outputs": [
    {
     "name": "stdout",
     "output_type": "stream",
     "text": [
      "Requirement already satisfied: ipykernel in c:\\users\\jfili\\appdata\\local\\programs\\python\\python311\\lib\\site-packages (6.29.4)\n",
      "Requirement already satisfied: comm>=0.1.1 in c:\\users\\jfili\\appdata\\local\\programs\\python\\python311\\lib\\site-packages (from ipykernel) (0.2.2)\n",
      "Requirement already satisfied: debugpy>=1.6.5 in c:\\users\\jfili\\appdata\\local\\programs\\python\\python311\\lib\\site-packages (from ipykernel) (1.8.1)\n",
      "Requirement already satisfied: ipython>=7.23.1 in c:\\users\\jfili\\appdata\\local\\programs\\python\\python311\\lib\\site-packages (from ipykernel) (8.24.0)\n",
      "Requirement already satisfied: jupyter-client>=6.1.12 in c:\\users\\jfili\\appdata\\local\\programs\\python\\python311\\lib\\site-packages (from ipykernel) (8.6.1)\n",
      "Requirement already satisfied: jupyter-core!=5.0.*,>=4.12 in c:\\users\\jfili\\appdata\\local\\programs\\python\\python311\\lib\\site-packages (from ipykernel) (5.7.2)\n",
      "Requirement already satisfied: matplotlib-inline>=0.1 in c:\\users\\jfili\\appdata\\local\\programs\\python\\python311\\lib\\site-packages (from ipykernel) (0.1.7)\n",
      "Requirement already satisfied: nest-asyncio in c:\\users\\jfili\\appdata\\local\\programs\\python\\python311\\lib\\site-packages (from ipykernel) (1.6.0)\n",
      "Requirement already satisfied: packaging in c:\\users\\jfili\\appdata\\local\\programs\\python\\python311\\lib\\site-packages (from ipykernel) (24.0)\n",
      "Requirement already satisfied: psutil in c:\\users\\jfili\\appdata\\local\\programs\\python\\python311\\lib\\site-packages (from ipykernel) (5.9.8)\n",
      "Requirement already satisfied: pyzmq>=24 in c:\\users\\jfili\\appdata\\local\\programs\\python\\python311\\lib\\site-packages (from ipykernel) (26.0.3)\n",
      "Requirement already satisfied: tornado>=6.1 in c:\\users\\jfili\\appdata\\local\\programs\\python\\python311\\lib\\site-packages (from ipykernel) (6.4)\n",
      "Requirement already satisfied: traitlets>=5.4.0 in c:\\users\\jfili\\appdata\\local\\programs\\python\\python311\\lib\\site-packages (from ipykernel) (5.14.3)\n",
      "Requirement already satisfied: decorator in c:\\users\\jfili\\appdata\\local\\programs\\python\\python311\\lib\\site-packages (from ipython>=7.23.1->ipykernel) (5.1.1)\n",
      "Requirement already satisfied: jedi>=0.16 in c:\\users\\jfili\\appdata\\local\\programs\\python\\python311\\lib\\site-packages (from ipython>=7.23.1->ipykernel) (0.19.1)\n",
      "Requirement already satisfied: prompt-toolkit<3.1.0,>=3.0.41 in c:\\users\\jfili\\appdata\\local\\programs\\python\\python311\\lib\\site-packages (from ipython>=7.23.1->ipykernel) (3.0.43)\n",
      "Requirement already satisfied: pygments>=2.4.0 in c:\\users\\jfili\\appdata\\local\\programs\\python\\python311\\lib\\site-packages (from ipython>=7.23.1->ipykernel) (2.18.0)\n",
      "Requirement already satisfied: stack-data in c:\\users\\jfili\\appdata\\local\\programs\\python\\python311\\lib\\site-packages (from ipython>=7.23.1->ipykernel) (0.6.3)\n",
      "Requirement already satisfied: typing-extensions>=4.6 in c:\\users\\jfili\\appdata\\local\\programs\\python\\python311\\lib\\site-packages (from ipython>=7.23.1->ipykernel) (4.11.0)\n",
      "Requirement already satisfied: colorama in c:\\users\\jfili\\appdata\\local\\programs\\python\\python311\\lib\\site-packages (from ipython>=7.23.1->ipykernel) (0.4.6)\n",
      "Requirement already satisfied: python-dateutil>=2.8.2 in c:\\users\\jfili\\appdata\\local\\programs\\python\\python311\\lib\\site-packages (from jupyter-client>=6.1.12->ipykernel) (2.8.2)\n",
      "Requirement already satisfied: platformdirs>=2.5 in c:\\users\\jfili\\appdata\\local\\programs\\python\\python311\\lib\\site-packages (from jupyter-core!=5.0.*,>=4.12->ipykernel) (4.2.1)\n",
      "Requirement already satisfied: pywin32>=300 in c:\\users\\jfili\\appdata\\local\\programs\\python\\python311\\lib\\site-packages (from jupyter-core!=5.0.*,>=4.12->ipykernel) (306)\n",
      "Requirement already satisfied: parso<0.9.0,>=0.8.3 in c:\\users\\jfili\\appdata\\local\\programs\\python\\python311\\lib\\site-packages (from jedi>=0.16->ipython>=7.23.1->ipykernel) (0.8.4)\n",
      "Requirement already satisfied: wcwidth in c:\\users\\jfili\\appdata\\local\\programs\\python\\python311\\lib\\site-packages (from prompt-toolkit<3.1.0,>=3.0.41->ipython>=7.23.1->ipykernel) (0.2.13)\n",
      "Requirement already satisfied: six>=1.5 in c:\\users\\jfili\\appdata\\local\\programs\\python\\python311\\lib\\site-packages (from python-dateutil>=2.8.2->jupyter-client>=6.1.12->ipykernel) (1.16.0)\n",
      "Requirement already satisfied: executing>=1.2.0 in c:\\users\\jfili\\appdata\\local\\programs\\python\\python311\\lib\\site-packages (from stack-data->ipython>=7.23.1->ipykernel) (2.0.1)\n",
      "Requirement already satisfied: asttokens>=2.1.0 in c:\\users\\jfili\\appdata\\local\\programs\\python\\python311\\lib\\site-packages (from stack-data->ipython>=7.23.1->ipykernel) (2.4.1)\n",
      "Requirement already satisfied: pure-eval in c:\\users\\jfili\\appdata\\local\\programs\\python\\python311\\lib\\site-packages (from stack-data->ipython>=7.23.1->ipykernel) (0.2.2)\n",
      "Note: you may need to restart the kernel to use updated packages.\n"
     ]
    }
   ],
   "source": [
    "pip install -U ipykernel"
   ]
  },
  {
   "cell_type": "markdown",
   "id": "f2057ced",
   "metadata": {},
   "source": [
    "<h2>Cálculo de Juros Simples e Compostos</h2>\n",
    "<p>Assista a este breve <a href=\"https://youtu.be/gyiiqUQgEeA\">vídeo</a> para entender os conceitos</p>\n",
    "<p>Em Português do Brasil alguns termos são ligeiramente diferentes, mas este <a href=\"https://youtu.be/Uth75BB0ASU\">vídeo</a> apresenta uma explicação simples destas fórmulas</p>\n",
    "<p>Implemente funções para calcular um e outro</p>\n",
    "<table>\n",
    "  <tr>\n",
    "    <td><img src=\"https://matematicafinanceira.org/wp-content/uploads/2020/05/formula-juros-simples-e-montante.jpg\"/></td>\n",
    "      <td><img src=\"https://matematicafinanceira.org/wp-content/uploads/2020/05/formula-juros-compostos-e-montante.jpg\"/></td>\n",
    "  </tr>\n",
    "</table>\n",
    "<p>Implemente o menu:</p>\n",
    "<ol>\n",
    "    <li>Simulação de Empréstimo com Juros Simples</li>\n",
    "    <li>Simulação de Empréstimo com Juros Compostos</li>\n",
    "    <li>Sair</li>\n",
    "</ol>\n",
    "<p>Em cada simulação apresente os juros e o montante a pagar</br>Considere a taxa um valor real entre 0 e 1. 0.33=33%</br>\n",
    "Considere ainda que o empréstimo é pago numa prestação única no fim do prazo.</p>"
   ]
  },
  {
   "cell_type": "code",
   "execution_count": 1,
   "id": "d1297546",
   "metadata": {},
   "outputs": [],
   "source": [
    "def juros_simples():\n",
    "    try:\n",
    "        capital = float(input(\"Qual é o capital a investir:  \"))\n",
    "        taxa = float(input(\"Indique a taxa oferecida pelo banco: \"))/100\n",
    "        tempo = int(input(\"Diga quanto tempo está disposto a deixar o capital investido: \"))\n",
    "        juros = capital*(taxa)*tempo\n",
    "        montante = capital+juros\n",
    "        print(\"Com um Capital de\", capital, \" euros, investidos ao longo de \", tempo, \" anos, com uma taxa de \",taxa*100, \"'%' o seu montante final será de\", montante, \"euros\")\n",
    "    except ValueError:\n",
    "        print(\"Insira uma opção válida\")"
   ]
  },
  {
   "cell_type": "code",
   "execution_count": 2,
   "id": "aa85da86",
   "metadata": {},
   "outputs": [],
   "source": [
    "def juros_compostos():\n",
    "    try:\n",
    "        capital = float(input(\"Qual é o capital a investir:  \"))\n",
    "        taxa = float(input(\"Indique a taxa oferecida pelo banco: \"))/100\n",
    "        tempo = int(input(\"Diga quanto tempo está disposto a deixar o capital investido: \"))\n",
    "        montante = capital*(1+taxa)**tempo\n",
    "        print(\"Com um Capital de\", capital, \" euros, investidos ao longo de \", tempo, \" anos, com uma taxa de \",taxa*100, \"'%' o seu montante final será de\", montante, \"euros\")\n",
    "    except ValueError:\n",
    "        print(\"Insira uma opção válida\")"
   ]
  },
  {
   "cell_type": "code",
   "execution_count": 3,
   "id": "a6648495",
   "metadata": {},
   "outputs": [],
   "source": [
    "def menu():\n",
    "    fechar = False\n",
    "    while not fechar:\n",
    "        print(\" 1- Simulação de Empréstimo com Juros Simples\")\n",
    "        print(\" 2- Simulação de Empréstimo com Juros Compostos\")\n",
    "        print(\" 3- Sair\")\n",
    "        opcao = input(\"Escolha uma das opções: \")\n",
    "        if opcao == \"1\":\n",
    "            juros_simples()\n",
    "        elif opcao == \"2\":\n",
    "            juros_compostos()\n",
    "        elif opcao == \"3\":\n",
    "            fechar = True"
   ]
  },
  {
   "cell_type": "code",
   "execution_count": null,
   "id": "0d37ac92",
   "metadata": {},
   "outputs": [],
   "source": []
  },
  {
   "cell_type": "markdown",
   "id": "069288d0",
   "metadata": {},
   "source": [
    "<h2>Calculadora</h2>\n",
    "<p>Escreva um programa que registe a entrada de dois número decimais a perguntar ao utilizador e realize as seguintes operações:</p>\n",
    "<ol>\n",
    "<li>Soma</li>\n",
    "<li>Subtração</li>\n",
    "<li>Multiplicação</li>\n",
    "<li>Divisão</li>\n",
    "<li>Potenciação</li>\n",
    "<li>Sair</li>\n",
    "    \n",
    "Cada operação, e o próprio menú devem ser desenvolvidos com funções."
   ]
  },
  {
   "cell_type": "code",
   "execution_count": null,
   "id": "6f63fb10",
   "metadata": {},
   "outputs": [],
   "source": []
  },
  {
   "cell_type": "markdown",
   "id": "41862436",
   "metadata": {},
   "source": [
    "<h2>Filmes</h2>\n",
    "<p>Na lista de filmes, cada linha corresponde a um ator.</br>O Dicionário diz a que linha corresponde cada ator</p>"
   ]
  },
  {
   "cell_type": "code",
   "execution_count": null,
   "id": "dd9af5d9",
   "metadata": {},
   "outputs": [],
   "source": [
    "movies = [\n",
    "    ['JFK', 'Sleepers', 'Mystic River', 'Diner', 'Tremors', 'Hollow Man', 'A Few Good Men', 'Apollo 13', 'X-Men: First Class', 'Footloose'],\n",
    "    ['Marjorie Prime','A Perfect Day','The Spoils Before Dying','Spoils of Babylon','Portlandia','The Secret Life of Words','Anchorman: The Legend of Ron Burgundy','Code 46','Mystic River','Austin Powers: The Spy Who Shagged Me','I.Q','The Shawshank Redemption','Short Cuts','Top Gun'],\n",
    "    ['Happy Feet 2','Happy Feet','Back To The Future 2','Lord Of The Rings : The fellowship of the ring','Lord Of The Rings : The two towers','Lord Of The Rings : Return Of The King','The Hobbit : The Battle Of Five Armies','The Hobbit : An Unexpected Journey ','Sin City','Spy Kids 3 : Game Over'],\n",
    "    ['Back to the Future','Back to the Future Part II ','Back to the Future Part III','Casualties of War ','The Hard Way','The Frighteners','Doc Hollywood','Greedy ','Teen Wolf ','Bright Lights, Big City'],\n",
    "    ['X-Men','The Lord of the Rings: The Fellowship of the Ring','The Lord of the Rings: The Two Towers','The Lord of the Rings: The Return of the King','Emile','X2','Eighteen','X-Men: The Last Stand','The Magic Roundabout','Flushed Away'],\n",
    "    ['I Am Sam.','Sweet Home Alabama.','Trapped.','Hansel & Gretel.','Uptown Girls.','The Cat In The Hat.','Man On Fire.','Nine Lives.','Hide And Seek.','War Of The Worlds.'],\n",
    "    ['Manhattan ','Ironweed','Out of Africa ','Silkwood','The French Lieutenants Woman','Julie & Julia','The Devil Wears Prada','The Iron Lady','Sophies Choice','Kramer vs. Kramer'],\n",
    "    ['The Thirteenth Year','The Flintstones in Viva Rock Vegas','The Safety of ObjectsPanic Room','Cold Creek Manor','Catch That Kid','Speak','Undertow','Fierce People','Zathura A Space Adventure'],\n",
    "    ['Cowboys & Aliens','Paranoia','Ender Game','Anchorman 2: The Legend Continues','The Expendables 3','The Age of Adaline','Star Wars: Episode VII - The Force Awakens','Blade Runner 2049','Star Wars: Episode IX - The Rise of Skywalker','The Call of the Wild'],\n",
    "    ['Harry Potter and the Philosophers Stone','Harry Potter and the Chamber of Secrets','Thunderpants','Harry Potter and the Prisoner of Azkaban','Harry Potter and the Goblet of Fire','Driving Lessons','Harry Potter and the Order of the Phoenix','Harry Potter and the Half-Blood Prince','Cherrybomb','Wild Target'],\n",
    "]\n",
    "actors = dict((\n",
    "    ('Kevin Bacon',1),\n",
    "    ('Tim Robbins',2),\n",
    "    ('Elijah Wood',3),\n",
    "    ('Michael J. Fox',4),\n",
    "    ('Ian McKellen',5),\n",
    "    ('Dakota Fannings',6),\n",
    "    ('Maryl Streep',7),\n",
    "    ('Kristen Stewart',8),\n",
    "    ('Harrison Ford',9),\n",
    "    ('Rupert Grint',10)\n",
    "))"
   ]
  },
  {
   "cell_type": "markdown",
   "id": "30b7cd44",
   "metadata": {},
   "source": [
    "<p>Em que filmes entrou o Harrison Ford?</p>\n",
    "<p>Dica: Atenção aos valores do dicionário e aos índices das listas</p>"
   ]
  },
  {
   "cell_type": "code",
   "execution_count": null,
   "id": "a7f3e12d",
   "metadata": {},
   "outputs": [],
   "source": []
  },
  {
   "cell_type": "markdown",
   "id": "a400c2fb",
   "metadata": {},
   "source": [
    "<p>Em que filme(s) entraram o Kevin Bacon e o Tim Robbins?</p>\n",
    "<p>Dica: Considere a interceção de conjuntos</p>"
   ]
  },
  {
   "cell_type": "code",
   "execution_count": null,
   "id": "1c733696",
   "metadata": {},
   "outputs": [],
   "source": []
  },
  {
   "cell_type": "markdown",
   "id": "b4be6ae8",
   "metadata": {},
   "source": [
    "<h3>Ciclos e controlo de fluxo</h3>\n",
    "<p>Imprima uma lista com todos os números ímpares de 0 a 100.</p>\n"
   ]
  },
  {
   "cell_type": "code",
   "execution_count": null,
   "id": "d13e45ea",
   "metadata": {},
   "outputs": [],
   "source": []
  },
  {
   "cell_type": "markdown",
   "id": "3f56e1b3",
   "metadata": {},
   "source": [
    "<h2>A Forca</h2>\n",
    "Vamos implementar o jogo da forca."
   ]
  },
  {
   "cell_type": "code",
   "execution_count": null,
   "id": "52c61d3f",
   "metadata": {},
   "outputs": [],
   "source": [
    "# bibliotecas que podem ser uteis\n",
    "import random\n",
    "import time\n",
    "\n"
   ]
  }
 ],
 "metadata": {
  "kernelspec": {
   "display_name": "Python 3 (ipykernel)",
   "language": "python",
   "name": "python3"
  },
  "language_info": {
   "codemirror_mode": {
    "name": "ipython",
    "version": 3
   },
   "file_extension": ".py",
   "mimetype": "text/x-python",
   "name": "python",
   "nbconvert_exporter": "python",
   "pygments_lexer": "ipython3",
   "version": "3.11.1"
  }
 },
 "nbformat": 4,
 "nbformat_minor": 5
}
